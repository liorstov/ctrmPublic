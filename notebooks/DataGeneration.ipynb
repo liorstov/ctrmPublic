{
 "cells": [
  {
   "cell_type": "markdown",
   "id": "45682e4b",
   "metadata": {},
   "source": [
    "# Data Generation\n",
    "\n",
    "We need to generate synthetic data to train a model on. We already have a script which can turn geophone shot data into a CTRM 3D film, so we need to generate synthetic geophone shot data. \n",
    "\n",
    "We will create a simple ray tracing model to get some usable data quickly. We will also explore a few python libraries that should be able to preform more accurate simulations, mainly, pygimli, devito, and pyGem."
   ]
  },
  {
   "cell_type": "code",
   "execution_count": null,
   "id": "522c2aae",
   "metadata": {},
   "outputs": [],
   "source": []
  },
  {
   "cell_type": "markdown",
   "id": "24d7f970",
   "metadata": {},
   "source": [
    "# basic test\n",
    "\n",
    "Some tests for a basic ray tracing model."
   ]
  },
  {
   "cell_type": "code",
   "execution_count": 4,
   "id": "fa45ae2a",
   "metadata": {
    "ExecuteTime": {
     "end_time": "2021-11-04T09:29:10.651759Z",
     "start_time": "2021-11-04T09:29:10.623618Z"
    }
   },
   "outputs": [
    {
     "ename": "ModuleNotFoundError",
     "evalue": "No module named 'tqdm'",
     "output_type": "error",
     "traceback": [
      "\u001b[0;31m---------------------------------------------------------------------------\u001b[0m",
      "\u001b[0;31mModuleNotFoundError\u001b[0m                       Traceback (most recent call last)",
      "\u001b[0;32m/tmp/ipykernel_242935/908733714.py\u001b[0m in \u001b[0;36m<module>\u001b[0;34m\u001b[0m\n\u001b[1;32m      1\u001b[0m \u001b[0;32mimport\u001b[0m \u001b[0mnumpy\u001b[0m \u001b[0;32mas\u001b[0m \u001b[0mnp\u001b[0m\u001b[0;34m\u001b[0m\u001b[0;34m\u001b[0m\u001b[0m\n\u001b[0;32m----> 2\u001b[0;31m \u001b[0;32mfrom\u001b[0m \u001b[0mtqdm\u001b[0m \u001b[0;32mimport\u001b[0m \u001b[0mtqdm\u001b[0m\u001b[0;34m\u001b[0m\u001b[0;34m\u001b[0m\u001b[0m\n\u001b[0m\u001b[1;32m      3\u001b[0m \u001b[0;32mfrom\u001b[0m \u001b[0mmatplotlib\u001b[0m \u001b[0;32mimport\u001b[0m \u001b[0mpyplot\u001b[0m \u001b[0;32mas\u001b[0m \u001b[0mplt\u001b[0m\u001b[0;34m\u001b[0m\u001b[0;34m\u001b[0m\u001b[0m\n\u001b[1;32m      4\u001b[0m \u001b[0;34m\u001b[0m\u001b[0m\n\u001b[1;32m      5\u001b[0m \u001b[0mSEED\u001b[0m\u001b[0;34m=\u001b[0m\u001b[0;36m42\u001b[0m\u001b[0;34m\u001b[0m\u001b[0;34m\u001b[0m\u001b[0m\n",
      "\u001b[0;31mModuleNotFoundError\u001b[0m: No module named 'tqdm'"
     ]
    }
   ],
   "source": [
    "import numpy as np\n",
    "from tqdm import tqdm\n",
    "from matplotlib import pyplot as plt\n",
    "\n",
    "SEED=42\n",
    "np.random.seed(SEED)"
   ]
  },
  {
   "cell_type": "code",
   "execution_count": 5,
   "id": "06ed5056",
   "metadata": {
    "ExecuteTime": {
     "end_time": "2021-11-04T09:29:10.892800Z",
     "start_time": "2021-11-04T09:29:10.891086Z"
    }
   },
   "outputs": [],
   "source": [
    "t0 = 0\n",
    "tf = 5000\n",
    "geophs = []\n",
    "s0 = -50\n",
    "sf = 50\n",
    "ds = 0.5\n",
    "v = 300"
   ]
  },
  {
   "cell_type": "markdown",
   "id": "a686ad26",
   "metadata": {},
   "source": [
    "defining the geophone locations:"
   ]
  },
  {
   "cell_type": "code",
   "execution_count": 6,
   "id": "4ca7380e",
   "metadata": {
    "ExecuteTime": {
     "end_time": "2021-11-04T09:29:11.203061Z",
     "start_time": "2021-11-04T09:29:11.160061Z"
    }
   },
   "outputs": [],
   "source": [
    "for x in np.arange(s0, sf+(0.5*ds), ds):\n",
    "    for y in np.arange(s0, sf+(0.5*ds), ds):\n",
    "        geophs.append(np.array([x, y, 0]))\n",
    "geophs = np.array(geophs)\n",
    "geophs.shape\n",
    "n_geophs = geophs.shape[0]"
   ]
  },
  {
   "cell_type": "markdown",
   "id": "30a868c1",
   "metadata": {
    "ExecuteTime": {
     "end_time": "2021-11-02T12:17:06.263903Z",
     "start_time": "2021-11-02T12:17:06.260046Z"
    }
   },
   "source": [
    "defining the signal"
   ]
  },
  {
   "cell_type": "code",
   "execution_count": 7,
   "id": "613b5eaf",
   "metadata": {
    "ExecuteTime": {
     "end_time": "2021-11-04T09:29:11.457735Z",
     "start_time": "2021-11-04T09:29:11.455341Z"
    }
   },
   "outputs": [],
   "source": [
    "s_x = 0\n",
    "s_y = 0\n",
    "s_z = -20\n",
    "t = np.arange(t0, tf)\n",
    "sig = lambda t: np.sinc(0.2*(t - 200))"
   ]
  },
  {
   "cell_type": "code",
   "execution_count": 8,
   "id": "5fedbc03",
   "metadata": {
    "ExecuteTime": {
     "end_time": "2021-11-04T09:29:11.718452Z",
     "start_time": "2021-11-04T09:29:11.698915Z"
    }
   },
   "outputs": [
    {
     "data": {
      "text/plain": [
       "((40401,), 20.0)"
      ]
     },
     "execution_count": 8,
     "metadata": {},
     "output_type": "execute_result"
    }
   ],
   "source": [
    "dists = np.sqrt(((np.array([[s_x, s_y, s_z]] * n_geophs) - geophs)**2).sum(axis=1))\n",
    "dists.shape, dists.min()"
   ]
  },
  {
   "cell_type": "code",
   "execution_count": 9,
   "id": "685cdde9",
   "metadata": {
    "ExecuteTime": {
     "end_time": "2021-11-04T09:29:11.928220Z",
     "start_time": "2021-11-04T09:29:11.925685Z"
    }
   },
   "outputs": [
    {
     "data": {
      "text/plain": [
       "(40401,)"
      ]
     },
     "execution_count": 9,
     "metadata": {},
     "output_type": "execute_result"
    }
   ],
   "source": [
    "dt = dists / v\n",
    "dt.shape"
   ]
  },
  {
   "cell_type": "code",
   "execution_count": 10,
   "id": "8215ada0",
   "metadata": {
    "ExecuteTime": {
     "end_time": "2021-11-04T09:29:12.165614Z",
     "start_time": "2021-11-04T09:29:12.162941Z"
    }
   },
   "outputs": [
    {
     "data": {
      "text/plain": [
       "(40401,)"
      ]
     },
     "execution_count": 10,
     "metadata": {},
     "output_type": "execute_result"
    }
   ],
   "source": [
    "cos_phi = np.abs(s_z) / dists\n",
    "cos_phi.shape"
   ]
  },
  {
   "cell_type": "code",
   "execution_count": 11,
   "id": "948c426b",
   "metadata": {
    "ExecuteTime": {
     "end_time": "2021-11-04T09:29:12.177328Z",
     "start_time": "2021-11-04T09:29:12.166247Z"
    }
   },
   "outputs": [
    {
     "data": {
      "text/plain": [
       "(40401,)"
      ]
     },
     "execution_count": 11,
     "metadata": {},
     "output_type": "execute_result"
    }
   ],
   "source": [
    "amps = cos_phi / (dists**2)\n",
    "amps.shape"
   ]
  },
  {
   "cell_type": "code",
   "execution_count": 12,
   "id": "0318b1b9",
   "metadata": {
    "ExecuteTime": {
     "end_time": "2021-11-04T09:29:12.414201Z",
     "start_time": "2021-11-04T09:29:12.411853Z"
    }
   },
   "outputs": [
    {
     "data": {
      "text/plain": [
       "(40401, 5000)"
      ]
     },
     "execution_count": 12,
     "metadata": {},
     "output_type": "execute_result"
    }
   ],
   "source": [
    "shots = np.zeros((n_geophs, tf-t0))\n",
    "shots.shape"
   ]
  },
  {
   "cell_type": "code",
   "execution_count": 13,
   "id": "f480330a",
   "metadata": {
    "ExecuteTime": {
     "end_time": "2021-11-04T09:29:16.623439Z",
     "start_time": "2021-11-04T09:29:12.714344Z"
    }
   },
   "outputs": [],
   "source": [
    "for t in np.arange(t0, tf):\n",
    "    shots[:, t] = amps*sig(t-dt)"
   ]
  },
  {
   "cell_type": "code",
   "execution_count": 14,
   "id": "c7211226",
   "metadata": {
    "ExecuteTime": {
     "end_time": "2021-11-04T09:29:16.709813Z",
     "start_time": "2021-11-04T09:29:16.625534Z"
    }
   },
   "outputs": [
    {
     "data": {
      "text/plain": [
       "[<matplotlib.lines.Line2D at 0x7f7376138c70>]"
      ]
     },
     "execution_count": 14,
     "metadata": {},
     "output_type": "execute_result"
    },
    {
     "data": {
      "image/png": "[encoded data removed]",
      "text/plain": [
       "<Figure size 432x288 with 1 Axes>"
      ]
     },
     "metadata": {
      "needs_background": "light"
     },
     "output_type": "display_data"
    }
   ],
   "source": [
    "plt.plot(np.arange(t0, tf), shots[20000, :])"
   ]
  },
  {
   "cell_type": "markdown",
   "id": "41aadb30",
   "metadata": {},
   "source": [
    "## generating a random dataset\n",
    "\n",
    "we will create some code to generate a bulk dataset which consists of many consecutive disturbances."
   ]
  },
  {
   "cell_type": "code",
   "execution_count": 3,
   "id": "1130d35b",
   "metadata": {
    "ExecuteTime": {
     "end_time": "2021-11-04T09:29:07.153402Z",
     "start_time": "2021-11-04T09:29:07.148772Z"
    }
   },
   "outputs": [],
   "source": [
    "def gen_a_shot(f, params, geophs, loc, t_span, v):\n",
    "    \"\"\"\n",
    "    given a geophoes geometry, a disturbance location and type, \n",
    "    will generate a a timeline with only this disturbance\n",
    "    :param f: a function describing the disturbance, of form f(t, *params)\n",
    "    :param params: a list of params to pass to f() after the time\n",
    "    :param geophs: a numpy array containing the locations of the geophones\n",
    "    :param loc: the location of the disturbance\n",
    "    :param t_span: the amount of time the recorded in the shot\n",
    "    :param v: the speed of sound in the medium\n",
    "    :return: a numpy array containing the shot data of the disturbance\n",
    "    \"\"\"\n",
    "    # save the number of geophones in memory\n",
    "    n_geophs = geophs.shape[0]\n",
    "    # find the distance of each geophone from the source\n",
    "    dists = np.sqrt(((np.array([[loc[0], loc[1], loc[2]]] * n_geophs) - geophs)**2).sum(axis=1))\n",
    "    # find the time the disturbance takes to travel to each geophone\n",
    "    dt = dists / v\n",
    "    # calculate the decay of the amplitude by the time it arrives to each geophone\n",
    "    cos_phi = np.abs(geophs[:, 2] - loc[2]) / dists\n",
    "    amps = cos_phi / (dists**2)\n",
    "    # create an object to hold the output data\n",
    "    shots = np.zeros((n_geophs, t_span[1] - t_span[0]))\n",
    "    for t in np.arange(t_span[0], t_span[1]):\n",
    "        shots[:, t] = amps*f(t-dt, * params)\n",
    "    return shots"
   ]
  },
  {
   "cell_type": "code",
   "execution_count": null,
   "id": "d25157ad",
   "metadata": {
    "ExecuteTime": {
     "end_time": "2021-11-03T06:49:33.697197Z",
     "start_time": "2021-11-03T06:49:33.688328Z"
    }
   },
   "outputs": [],
   "source": [
    "def gen_shots(f, param_range, geophs, loc_range, N, max_subs, break_range, sub_range, v, seed=42):\n",
    "    \"\"\"\n",
    "    generate a sequence of disturbances and record shot data\n",
    "    :param f: a function describing the disturbance, of form f(t, t0, *params)    \n",
    "    :param param_range: 2 lists describing the range of params that can be passed to to f() \n",
    "    after the time variable: [params_0, params_f]\n",
    "    :param geophs: a numpy array containing the locations of the geophones\n",
    "    :param loc_range: 2 lists describing the bounds of the possible disturbances:\n",
    "    [(x_0, y_0, z_0), (x_f, y_f, z_f)]\n",
    "    :param N: the number of disturbances\n",
    "    :param max_subs: how many disturbances at most can make each disturbance\n",
    "    :param break_range: a range of time to wait between disturbances\n",
    "    :param sub_range: a range of time to wait between sub disturbances\n",
    "    :param v: the speed of sound in the medium\n",
    "    :param seed: used to set the randomness of the model\n",
    "    :return: a numpy array containing the shot data of the disturbance\n",
    "    \"\"\"\n",
    "    # calculate the moment each disturbance takes place, and total sim time\n",
    "    T = 0    \n",
    "    dis_times = []\n",
    "    dis_dt = []\n",
    "    for _ in range(N):\n",
    "        T += np.random.randint(*break_range)\n",
    "        n_subs = np.random.randint(1, max_subs+1)\n",
    "        t_wait = np.random.randint(*sub_range)\n",
    "        dis_dt.append(t_wait)\n",
    "        sub_dists = []\n",
    "        for _ in range(n_subs):\n",
    "            T += t_wait\n",
    "            sub_dists.append(T)\n",
    "        dis_times.append(sub_dists)\n",
    "    T += np.random.randint(*break_range)\n",
    "    \n",
    "    # create object to hold output data\n",
    "    outp = np.zeros((n_geophs, T))\n",
    "    y_res = np.zeros((4, T))\n",
    "    \n",
    "    # create a random disturbance each dis moment\n",
    "    for disturb_range, dis_wait in tqdm(zip(dis_times, dis_dt)):\n",
    "        params = []\n",
    "        for a, b in zip(param_range[0], param_range[1]):\n",
    "            params.append(a + ((b-a) * np.random.random()))\n",
    "        loc = []\n",
    "        for a, b in zip(loc_range[0], loc_range[1]):\n",
    "            loc.append(a + ((b-a) * np.random.random()))\n",
    "        \n",
    "        tt0 = disturb_range[0]\n",
    "        ttf = disturb_range[-1] + dis_wait\n",
    "        y_res[:, tt0:ttf] = np.array([[1] + loc] * (ttf - tt0)).T\n",
    "            \n",
    "        for disturb_t in disturb_range:\n",
    "            ff = lambda t: f(t, disturb_t, *params)\n",
    "            outp += gen_a_shot(ff, [], geophs, loc, [0, T], v)\n",
    "        \n",
    "    return outp, y_res"
   ]
  },
  {
   "cell_type": "code",
   "execution_count": null,
   "id": "bb0a851c",
   "metadata": {
    "ExecuteTime": {
     "end_time": "2021-11-03T06:49:35.010133Z",
     "start_time": "2021-11-03T06:49:35.005440Z"
    }
   },
   "outputs": [],
   "source": [
    "sig = lambda t, t0, A, w: A * np.sinc(w*(t - t0))"
   ]
  },
  {
   "cell_type": "code",
   "execution_count": null,
   "id": "40f6dc8a",
   "metadata": {
    "ExecuteTime": {
     "end_time": "2021-11-03T06:50:16.400553Z",
     "start_time": "2021-11-03T06:49:35.820618Z"
    }
   },
   "outputs": [],
   "source": [
    "data, y_true = gen_shots(sig, \n",
    "                          [[0.9, 0.1], [1.1, 0.3]], \n",
    "                          geophs, \n",
    "                          [(s0, s0, 0), (sf, sf, -50)], \n",
    "                          N=5, \n",
    "                          max_subs=5, \n",
    "                          break_range=[400, 500], \n",
    "                          sub_range=[50, 100], \n",
    "                          v=300, \n",
    "                          seed=42)"
   ]
  },
  {
   "cell_type": "code",
   "execution_count": null,
   "id": "fb8d109d",
   "metadata": {
    "ExecuteTime": {
     "end_time": "2021-11-03T06:50:16.533655Z",
     "start_time": "2021-11-03T06:50:16.531168Z"
    }
   },
   "outputs": [],
   "source": [
    "data.shape, y_true.shape"
   ]
  },
  {
   "cell_type": "code",
   "execution_count": null,
   "id": "1c5b8f3a",
   "metadata": {
    "ExecuteTime": {
     "end_time": "2021-11-03T06:50:21.948781Z",
     "start_time": "2021-11-03T06:50:21.873252Z"
    }
   },
   "outputs": [],
   "source": [
    "plt.plot(np.arange(0, data.shape[1]), data[20000, :])"
   ]
  },
  {
   "cell_type": "code",
   "execution_count": null,
   "id": "e3a9bc5f",
   "metadata": {
    "ExecuteTime": {
     "end_time": "2021-11-03T06:50:53.759828Z",
     "start_time": "2021-11-03T06:50:53.697677Z"
    }
   },
   "outputs": [],
   "source": [
    "plt.plot(np.arange(0, data.shape[1]), y_true[0, :])"
   ]
  },
  {
   "cell_type": "code",
   "execution_count": null,
   "id": "d96dee37",
   "metadata": {
    "ExecuteTime": {
     "end_time": "2021-11-03T08:04:15.803386Z",
     "start_time": "2021-11-03T08:04:15.799154Z"
    }
   },
   "outputs": [],
   "source": [
    "geophs.shape"
   ]
  },
  {
   "cell_type": "code",
   "execution_count": null,
   "id": "83f2b213",
   "metadata": {
    "ExecuteTime": {
     "end_time": "2021-11-03T11:43:48.462959Z",
     "start_time": "2021-11-03T11:43:48.452717Z"
    }
   },
   "outputs": [],
   "source": [
    "data.shape"
   ]
  },
  {
   "cell_type": "code",
   "execution_count": null,
   "id": "e20de69f",
   "metadata": {
    "ExecuteTime": {
     "end_time": "2021-11-03T11:44:17.446096Z",
     "start_time": "2021-11-03T11:44:17.279617Z"
    }
   },
   "outputs": [],
   "source": [
    "print(f\"the shape of data is {data.shape}\")\n",
    "print(f\"the shape of the results is {y_true.shape}\")\n",
    "plt.plot(np.arange(0, data.shape[1]), data[-1, :] / (data[-1, :].max()), label=\"last shot\")\n",
    "plt.plot(np.arange(0, data.shape[1]), data[0, :] / (data[0, :].max()), label=\"first shot\")\n",
    "plt.plot(np.arange(0, data.shape[1]), y_true[0, :], label=\"times of signal\")\n",
    "plt.xlabel(\"time\")\n",
    "plt.ylabel(\"normalized shots\")\n",
    "plt.title(\"example shots - normalized\")\n",
    "plt.legend()\n",
    "plt.show()"
   ]
  },
  {
   "cell_type": "markdown",
   "id": "3b7d2755",
   "metadata": {},
   "source": [
    "# PyGimli\n",
    "\n",
    "Some tests to check how PyGimli works"
   ]
  },
  {
   "cell_type": "code",
   "execution_count": null,
   "id": "4f366df1",
   "metadata": {
    "ExecuteTime": {
     "end_time": "2021-11-02T14:19:36.941203Z",
     "start_time": "2021-11-02T14:19:36.631295Z"
    }
   },
   "outputs": [],
   "source": [
    "import numpy as np\n",
    "# import pandas as pd\n",
    "import pygimli as pg\n",
    "\n",
    "pyvista = pg.optImport(\"pyvista\")"
   ]
  },
  {
   "cell_type": "code",
   "execution_count": null,
   "id": "ffb88a4c",
   "metadata": {
    "ExecuteTime": {
     "end_time": "2021-11-02T14:19:42.420550Z",
     "start_time": "2021-11-02T14:19:42.416778Z"
    }
   },
   "outputs": [],
   "source": [
    "s0 = -50\n",
    "sf = 50\n",
    "z0 =  0\n",
    "zf = -50\n",
    "# the_world = pg.meshtools.createWorld([s0, s0, z0], [sf, sf, zf], worldMarker=False)\n",
    "the_cube = pg.meshtools.createCube(size=[(sf-s0), (sf-s0), (zf-z0)], \n",
    "                                   pos=[0, 0, 0.5*(zf-z0)])\n",
    "# the_rect = pg.meshtools.createRectangle([s0, s0, z0], [sf, sf, zf])"
   ]
  },
  {
   "cell_type": "code",
   "execution_count": null,
   "id": "dc0f2c03",
   "metadata": {
    "ExecuteTime": {
     "end_time": "2021-11-02T14:20:14.858764Z",
     "start_time": "2021-11-02T14:19:50.336136Z"
    },
    "scrolled": true
   },
   "outputs": [],
   "source": [
    "sensors = []\n",
    "ds = 0.5\n",
    "for x in np.arange(s0, sf+ds, ds):\n",
    "    for y in np.arange(s0, sf+ds, ds):\n",
    "        sensors.append(np.array([x, y, z0]))\n",
    "for pos in sensors:\n",
    "    the_cube.createNode(pos)"
   ]
  },
  {
   "cell_type": "code",
   "execution_count": null,
   "id": "ee5eed8f",
   "metadata": {
    "ExecuteTime": {
     "end_time": "2021-11-02T14:21:00.970730Z",
     "start_time": "2021-11-02T14:21:00.567451Z"
    }
   },
   "outputs": [],
   "source": [
    "pg.show(the_cube)"
   ]
  },
  {
   "cell_type": "code",
   "execution_count": null,
   "id": "5788a459",
   "metadata": {},
   "outputs": [],
   "source": []
  },
  {
   "cell_type": "code",
   "execution_count": null,
   "id": "b300dfd3",
   "metadata": {},
   "outputs": [],
   "source": []
  },
  {
   "cell_type": "code",
   "execution_count": null,
   "id": "96f006a2",
   "metadata": {
    "ExecuteTime": {
     "end_time": "2021-11-02T14:22:32.340789Z",
     "start_time": "2021-11-02T14:22:32.334719Z"
    }
   },
   "outputs": [],
   "source": [
    "import pygimli.meshtools as mt\n",
    "from pygimli.physics import traveltime\n",
    "from pygimli.viewer.pv import drawSensors\n",
    "from pygimli.physics.seismics import solvePressureWave"
   ]
  },
  {
   "cell_type": "code",
   "execution_count": null,
   "id": "80bc32b4",
   "metadata": {
    "ExecuteTime": {
     "start_time": "2021-11-02T14:22:44.534Z"
    }
   },
   "outputs": [],
   "source": [
    "mesh = mt.createMesh(the_cube)\n",
    "mesh.createSecondaryNodes(1)"
   ]
  },
  {
   "cell_type": "code",
   "execution_count": null,
   "id": "e04b1164",
   "metadata": {
    "ExecuteTime": {
     "end_time": "2021-11-02T11:29:55.553350Z",
     "start_time": "2021-11-02T11:29:55.410Z"
    }
   },
   "outputs": [],
   "source": [
    "scheme = pg.physics.traveltime.createRAData(sensors)"
   ]
  },
  {
   "cell_type": "markdown",
   "id": "deac6f58",
   "metadata": {},
   "source": [
    "## 2nd attempt at PyGimli based on Oz's code and tutorials"
   ]
  },
  {
   "cell_type": "code",
   "execution_count": null,
   "id": "a158ee11",
   "metadata": {
    "ExecuteTime": {
     "end_time": "2021-11-03T13:43:23.332619Z",
     "start_time": "2021-11-03T13:43:22.984111Z"
    }
   },
   "outputs": [],
   "source": [
    "import matplotlib.pyplot as plt\n",
    "import numpy as np\n",
    "from matplotlib.lines import Line2D\n",
    "import pygimli as pg\n",
    "import pygimli.meshtools as mt\n",
    "from pygimli.physics.traveltime import TravelTimeManager\n",
    "from matplotlib.widgets import Cursor\n",
    "\n",
    "\n",
    "import pygimli.meshtools as mt\n",
    "from pygimli.physics import traveltime\n",
    "from pygimli.viewer.pv import drawSensors\n",
    "from pygimli.physics.seismics import solvePressureWave\n",
    "\n",
    "from pygimli.physics import seismics as seis\n",
    "\n",
    "pyvista = pg.optImport(\"pyvista\")\n",
    "\n",
    "pg.utils.units.quants['vel']['cMap'] = 'inferno_r'"
   ]
  },
  {
   "cell_type": "code",
   "execution_count": null,
   "id": "9d0cd3d7",
   "metadata": {
    "ExecuteTime": {
     "end_time": "2021-11-03T13:43:23.752070Z",
     "start_time": "2021-11-03T13:43:23.701353Z"
    }
   },
   "outputs": [],
   "source": [
    "depth = 50\n",
    "width = 100\n",
    "print(\"creating cube...\")\n",
    "plc = mt.createCube(size=[width, width, depth], pos=[0, 0, -depth/2], area=20)\n",
    "\n",
    "print(\"creating sensors...\")\n",
    "# use ds>=1, when using 0.5 it causes an error with mesh.createSecondaryNodes(1)\n",
    "# runs smoothly with ds in {1, 2, 2.5}\n",
    "ds = 2\n",
    "sensors = []\n",
    "for x in np.arange(-0.5*width + ds, 0.5*(width-ds), ds):\n",
    "    for y in np.arange(-0.5*width + ds, 0.5*(width-ds), ds):\n",
    "        sensors.append([x, y, 0])\n",
    "sensors = np.array(sensors)\n",
    "n_sensors = sensors.shape[0]\n",
    "\n",
    "sensors.shape, plc"
   ]
  },
  {
   "cell_type": "code",
   "execution_count": null,
   "id": "46ddec4e",
   "metadata": {
    "ExecuteTime": {
     "end_time": "2021-11-03T13:43:24.345360Z",
     "start_time": "2021-11-03T13:43:24.317578Z"
    }
   },
   "outputs": [],
   "source": [
    "print(\"placing sensors...\")\n",
    "for pos in sensors:\n",
    "    plc.createNode(pos)"
   ]
  },
  {
   "cell_type": "code",
   "execution_count": null,
   "id": "9c2d1c83",
   "metadata": {
    "ExecuteTime": {
     "end_time": "2021-11-03T13:43:27.128030Z",
     "start_time": "2021-11-03T13:43:24.896411Z"
    }
   },
   "outputs": [],
   "source": [
    "mesh = mt.createMesh(plc)"
   ]
  },
  {
   "cell_type": "code",
   "execution_count": null,
   "id": "351549aa",
   "metadata": {
    "ExecuteTime": {
     "end_time": "2021-11-03T13:43:29.517425Z",
     "start_time": "2021-11-03T13:43:27.328768Z"
    }
   },
   "outputs": [],
   "source": [
    "mesh.createSecondaryNodes(1)"
   ]
  },
  {
   "cell_type": "code",
   "execution_count": null,
   "id": "9f25be46",
   "metadata": {
    "ExecuteTime": {
     "end_time": "2021-11-03T13:43:29.757311Z",
     "start_time": "2021-11-03T13:43:29.742881Z"
    }
   },
   "outputs": [],
   "source": [
    "v0 = 300.0\n",
    "\n",
    "### For gradient speed:\n",
    "# vel = v0 + -pg.z(mesh.cellCenters()) * 100\n",
    "\n",
    "### For constant speed:\n",
    "vel = v0 * np.ones((len(mesh.cellCenters()), ))"
   ]
  },
  {
   "cell_type": "code",
   "execution_count": null,
   "id": "d28237b5",
   "metadata": {
    "ExecuteTime": {
     "end_time": "2021-11-03T13:43:30.535899Z",
     "start_time": "2021-11-03T13:43:29.957187Z"
    }
   },
   "outputs": [],
   "source": [
    "if pyvista:\n",
    "    label = pg.utils.unit(\"vel\")\n",
    "    pg.show(mesh, vel, label=label)"
   ]
  },
  {
   "cell_type": "code",
   "execution_count": null,
   "id": "9e2d92ce",
   "metadata": {
    "ExecuteTime": {
     "end_time": "2021-11-03T14:24:13.001799Z",
     "start_time": "2021-11-03T14:24:12.996900Z"
    }
   },
   "outputs": [],
   "source": [
    "dt = 0.00025\n",
    "T = 50000\n",
    "times = np.arange(0, dt*T, dt)\n",
    "source = pg.physics.seismics.ricker(1000, times, t0=50)*100\n",
    "source_pos = [0 ,0, -5]"
   ]
  },
  {
   "cell_type": "code",
   "execution_count": null,
   "id": "a9e67b34",
   "metadata": {
    "ExecuteTime": {
     "end_time": "2021-11-03T14:29:31.454147Z",
     "start_time": "2021-11-03T14:24:22.334394Z"
    }
   },
   "outputs": [],
   "source": [
    "udata = pg.physics.seismics.solvePressureWave(mesh, \n",
    "                                              vel, \n",
    "                                              times, \n",
    "                                              source_pos, \n",
    "                                              source, \n",
    "                                              verbose=True)\n",
    "filename = f'source_pick_{source_pos[0]}_{source_pos[1]}.txt'"
   ]
  },
  {
   "cell_type": "code",
   "execution_count": null,
   "id": "20e629e1",
   "metadata": {
    "ExecuteTime": {
     "end_time": "2021-11-03T14:24:03.610868Z",
     "start_time": "2021-11-03T14:24:03.606266Z"
    }
   },
   "outputs": [],
   "source": [
    "udata.shape"
   ]
  },
  {
   "cell_type": "code",
   "execution_count": null,
   "id": "cf948238",
   "metadata": {
    "ExecuteTime": {
     "end_time": "2021-11-03T13:43:46.102226Z",
     "start_time": "2021-11-03T13:43:42.940566Z"
    }
   },
   "outputs": [],
   "source": [
    "fig = plt.figure()\n",
    "ax = fig.add_subplot(1,1,1)\n",
    "fig.suptitle(filename)\n",
    "pressure = []\n",
    "geo_pos = []\n",
    "geophones = sensors[10:]\n",
    "\n",
    "for step, time in enumerate(times):\n",
    "    for pos in geophones:\n",
    "        geo_pos = (mesh.findNearestNode(pos))\n",
    "        pressure.append(udata[step,geo_pos])\n",
    "        \n",
    "res = np.reshape(pressure, [150,-1])\n",
    "#np.savetxt('gather1.txt', res)\n",
    "\n",
    "#plt.imshow(res, aspect='auto', cmap='Greys')\n",
    "\n",
    "for trace in range(17):\n",
    "    seis.drawWiggle(ax, res[:,trace]/np.max(res[:,trace]), times, xoffset=trace, posColor='black', negColor='white')\n",
    "ax.invert_yaxis()\n"
   ]
  },
  {
   "cell_type": "code",
   "execution_count": null,
   "id": "45631158",
   "metadata": {
    "ExecuteTime": {
     "end_time": "2021-11-03T13:53:19.865070Z",
     "start_time": "2021-11-03T13:51:45.803868Z"
    }
   },
   "outputs": [],
   "source": [
    "points = plt.ginput(n=len(geophones), show_clicks=True, timeout=9999)"
   ]
  },
  {
   "cell_type": "code",
   "execution_count": null,
   "id": "114ad381",
   "metadata": {
    "ExecuteTime": {
     "end_time": "2021-11-03T13:51:41.773582Z",
     "start_time": "2021-11-03T13:44:56.053865Z"
    }
   },
   "outputs": [],
   "source": [
    "np.savetxt(filename, points, fmt='%1.8f')"
   ]
  },
  {
   "cell_type": "code",
   "execution_count": null,
   "id": "9cb0d6f4",
   "metadata": {
    "ExecuteTime": {
     "end_time": "2021-11-03T14:06:39.783591Z",
     "start_time": "2021-11-03T14:06:39.772726Z"
    }
   },
   "outputs": [],
   "source": [
    "np.array(udata)"
   ]
  },
  {
   "cell_type": "markdown",
   "id": "a9e303f6",
   "metadata": {},
   "source": [
    "## creating training data\n",
    "\n",
    "Now that we have a method to generate to simulate shot data, we'll repeat the method we employed at the basic test section to generate a dataset, but this time using pyGmil to employ a finite difference model for better results"
   ]
  },
  {
   "cell_type": "code",
   "execution_count": 1,
   "id": "b6f814f4",
   "metadata": {
    "ExecuteTime": {
     "end_time": "2021-11-03T14:47:01.455121Z",
     "start_time": "2021-11-03T14:47:00.675947Z"
    }
   },
   "outputs": [],
   "source": [
    "import matplotlib.pyplot as plt\n",
    "import numpy as np\n",
    "from matplotlib.lines import Line2D\n",
    "import pygimli as pg\n",
    "import pygimli.meshtools as mt\n",
    "from pygimli.physics.traveltime import TravelTimeManager\n",
    "from matplotlib.widgets import Cursor\n",
    "\n",
    "\n",
    "import pygimli.meshtools as mt\n",
    "from pygimli.physics import traveltime\n",
    "from pygimli.viewer.pv import drawSensors\n",
    "from pygimli.physics.seismics import solvePressureWave\n",
    "\n",
    "from pygimli.physics import seismics as seis\n",
    "\n",
    "pyvista = pg.optImport(\"pyvista\")\n",
    "\n",
    "pg.utils.units.quants['vel']['cMap'] = 'inferno_r'"
   ]
  },
  {
   "cell_type": "code",
   "execution_count": null,
   "id": "e73bd01e",
   "metadata": {},
   "outputs": [],
   "source": []
  },
  {
   "cell_type": "code",
   "execution_count": null,
   "id": "ec7e2b8c",
   "metadata": {},
   "outputs": [],
   "source": []
  },
  {
   "cell_type": "code",
   "execution_count": null,
   "id": "b9f5fe10",
   "metadata": {},
   "outputs": [],
   "source": []
  },
  {
   "cell_type": "code",
   "execution_count": 2,
   "id": "ba260446",
   "metadata": {
    "ExecuteTime": {
     "end_time": "2021-11-03T14:47:19.732303Z",
     "start_time": "2021-11-03T14:47:19.683792Z"
    }
   },
   "outputs": [
    {
     "name": "stdout",
     "output_type": "stream",
     "text": [
      "creating cube...\n",
      "creating sensors...\n"
     ]
    },
    {
     "data": {
      "text/plain": [
       "((2401, 3), Mesh: Nodes: 8 Cells: 0 Boundaries: 6)"
      ]
     },
     "execution_count": 2,
     "metadata": {},
     "output_type": "execute_result"
    }
   ],
   "source": [
    "depth = 50\n",
    "width = 100\n",
    "print(\"creating cube...\")\n",
    "plc = mt.createCube(size=[width, width, depth], pos=[0, 0, -depth/2], area=20)\n",
    "\n",
    "print(\"creating sensors...\")\n",
    "# use ds>=1, when using 0.5 it causes an error with mesh.createSecondaryNodes(1)\n",
    "# runs smoothly with ds in {1, 2, 2.5}\n",
    "ds = 2\n",
    "sensors = []\n",
    "for x in np.arange(-0.5*width + ds, 0.5*(width-ds), ds):\n",
    "    for y in np.arange(-0.5*width + ds, 0.5*(width-ds), ds):\n",
    "        sensors.append([x, y, 0])\n",
    "sensors = np.array(sensors)\n",
    "n_sensors = sensors.shape[0]\n",
    "\n",
    "sensors.shape, plc"
   ]
  },
  {
   "cell_type": "code",
   "execution_count": null,
   "id": "9dba998a",
   "metadata": {
    "ExecuteTime": {
     "end_time": "2021-11-03T13:43:24.345360Z",
     "start_time": "2021-11-03T13:43:24.317578Z"
    }
   },
   "outputs": [],
   "source": [
    "print(\"placing sensors...\")\n",
    "for pos in sensors:\n",
    "    plc.createNode(pos)"
   ]
  },
  {
   "cell_type": "code",
   "execution_count": null,
   "id": "6beae819",
   "metadata": {
    "ExecuteTime": {
     "end_time": "2021-11-03T13:43:27.128030Z",
     "start_time": "2021-11-03T13:43:24.896411Z"
    }
   },
   "outputs": [],
   "source": [
    "mesh = mt.createMesh(plc)"
   ]
  },
  {
   "cell_type": "code",
   "execution_count": null,
   "id": "774ffda1",
   "metadata": {
    "ExecuteTime": {
     "end_time": "2021-11-03T13:43:29.517425Z",
     "start_time": "2021-11-03T13:43:27.328768Z"
    }
   },
   "outputs": [],
   "source": [
    "mesh.createSecondaryNodes(1)"
   ]
  },
  {
   "cell_type": "code",
   "execution_count": null,
   "id": "78454ae9",
   "metadata": {
    "ExecuteTime": {
     "end_time": "2021-11-03T13:43:29.757311Z",
     "start_time": "2021-11-03T13:43:29.742881Z"
    }
   },
   "outputs": [],
   "source": [
    "v0 = 300.0\n",
    "\n",
    "### For gradient speed:\n",
    "# vel = v0 + -pg.z(mesh.cellCenters()) * 100\n",
    "\n",
    "### For constant speed:\n",
    "vel = v0 * np.ones((len(mesh.cellCenters()), ))"
   ]
  },
  {
   "cell_type": "code",
   "execution_count": null,
   "id": "08ca9d44",
   "metadata": {
    "ExecuteTime": {
     "end_time": "2021-11-03T13:43:30.535899Z",
     "start_time": "2021-11-03T13:43:29.957187Z"
    }
   },
   "outputs": [],
   "source": [
    "if pyvista:\n",
    "    label = pg.utils.unit(\"vel\")\n",
    "    pg.show(mesh, vel, label=label)"
   ]
  },
  {
   "cell_type": "code",
   "execution_count": null,
   "id": "54724ae8",
   "metadata": {},
   "outputs": [],
   "source": []
  },
  {
   "cell_type": "markdown",
   "id": "1e2124c8",
   "metadata": {},
   "source": [
    "# Devito\n",
    "\n",
    "Some tests at how to use devito and pyGem to create a 3D mesh, and simulate data on it"
   ]
  },
  {
   "cell_type": "code",
   "execution_count": null,
   "id": "daed79ac",
   "metadata": {
    "ExecuteTime": {
     "end_time": "2021-11-02T11:29:55.554113Z",
     "start_time": "2021-11-02T11:29:55.413Z"
    }
   },
   "outputs": [],
   "source": [
    "from devito import *"
   ]
  },
  {
   "cell_type": "code",
   "execution_count": null,
   "id": "111ac1e0",
   "metadata": {
    "ExecuteTime": {
     "end_time": "2021-11-02T11:29:55.554480Z",
     "start_time": "2021-11-02T11:29:55.414Z"
    }
   },
   "outputs": [],
   "source": [
    "# Import auxiliary modules\n",
    "import numpy as np\n",
    "\n",
    "%matplotlib inline"
   ]
  },
  {
   "cell_type": "code",
   "execution_count": null,
   "id": "60148e23",
   "metadata": {
    "ExecuteTime": {
     "end_time": "2021-11-02T11:29:55.554864Z",
     "start_time": "2021-11-02T11:29:55.418Z"
    }
   },
   "outputs": [],
   "source": [
    "#NBVAL_IGNORE_OUTPUT\n",
    "# import sys\n",
    "# sys.path.insert(0, '../../devito')\n",
    "from examples.seismic import Model, plot_velocity\n",
    "\n",
    "# Define a physical size\n",
    "shape = (101, 101)  # Number of grid point (nx, nz)\n",
    "spacing = (10., 10.)  # Grid spacing in m. The domain size is now 1km by 1km\n",
    "origin = (0., 0.)  # What is the location of the top left corner. This is necessary to define\n",
    "# the absolute location of the source and receivers\n",
    "\n",
    "# Define a velocity profile. The velocity is in km/s\n",
    "v = np.empty(shape, dtype=np.float32)\n",
    "v[:, :51] = 1.5\n",
    "v[:, 51:] = 2.5\n",
    "\n",
    "# With the velocity and model size defined, we can create the seismic model that\n",
    "# encapsulates this properties. We also define the size of the absorbing layer as 10 grid points\n",
    "model = Model(vp=v, origin=origin, shape=shape, spacing=spacing,\n",
    "              space_order=2, nbl=10, bcs=\"damp\")\n",
    "\n",
    "plot_velocity(model)"
   ]
  },
  {
   "cell_type": "code",
   "execution_count": null,
   "id": "cc42fe6b",
   "metadata": {},
   "outputs": [],
   "source": []
  },
  {
   "cell_type": "code",
   "execution_count": null,
   "id": "fb805813",
   "metadata": {},
   "outputs": [],
   "source": []
  },
  {
   "cell_type": "code",
   "execution_count": null,
   "id": "f0450489",
   "metadata": {},
   "outputs": [],
   "source": []
  },
  {
   "cell_type": "code",
   "execution_count": null,
   "id": "a5ffaf9c",
   "metadata": {},
   "outputs": [],
   "source": []
  },
  {
   "cell_type": "code",
   "execution_count": null,
   "id": "6154e529",
   "metadata": {},
   "outputs": [],
   "source": []
  },
  {
   "cell_type": "code",
   "execution_count": null,
   "id": "38d716ae",
   "metadata": {
    "ExecuteTime": {
     "end_time": "2021-11-02T11:42:59.608467Z",
     "start_time": "2021-11-02T11:42:58.439871Z"
    }
   },
   "outputs": [],
   "source": [
    "# NBVAL_IGNORE_OUTPUT\n",
    "try:\n",
    "    # Import gempy\n",
    "    import gempy as gp\n",
    "except ModuleNotFoundError:\n",
    "    # Need to install these\n",
    "    ! pip install pyvista==0.29\n",
    "    ! pip install pyqt5\n",
    "    # Install gempy\n",
    "    ! pip install gempy==2.2.9\n",
    "    # Import gempy\n",
    "    import gempy as gp\n",
    "    \n",
    "try:\n",
    "    # Import jinja2 (used for colour coding geology)\n",
    "    import jinja2\n",
    "except ModuleNotFoundError:\n",
    "    # Install jinja2\n",
    "    ! pip install jinja2\n",
    "    # Import jinja2\n",
    "    import jinja2"
   ]
  },
  {
   "cell_type": "code",
   "execution_count": null,
   "id": "ea0b9a37",
   "metadata": {
    "ExecuteTime": {
     "end_time": "2021-11-02T11:42:59.976968Z",
     "start_time": "2021-11-02T11:42:59.664997Z"
    }
   },
   "outputs": [],
   "source": [
    "geo_model = gp.create_model('the_world')\n",
    "geo_model = gp.init_data(geo_model, \n",
    "                         extent=(-50., 50.,\n",
    "                                 -50., 50.,\n",
    "                                  0., -50.), \n",
    "                         resolution=(101, 101, 51))"
   ]
  },
  {
   "cell_type": "code",
   "execution_count": null,
   "id": "2ea31ee1",
   "metadata": {
    "ExecuteTime": {
     "end_time": "2021-11-02T11:43:08.657875Z",
     "start_time": "2021-11-02T11:43:00.033769Z"
    }
   },
   "outputs": [],
   "source": [
    "gp.set_interpolator(geo_model, output=['geology'], theano_optimizer='fast_compile')"
   ]
  },
  {
   "cell_type": "code",
   "execution_count": null,
   "id": "adee3754",
   "metadata": {
    "ExecuteTime": {
     "end_time": "2021-11-02T11:43:08.723311Z",
     "start_time": "2021-11-02T11:43:08.720270Z"
    }
   },
   "outputs": [],
   "source": [
    "geo_model.rename_series({'Default series': 'Lower'})"
   ]
  },
  {
   "cell_type": "code",
   "execution_count": null,
   "id": "6526fb1c",
   "metadata": {
    "ExecuteTime": {
     "end_time": "2021-11-02T11:43:08.826340Z",
     "start_time": "2021-11-02T11:43:08.778518Z"
    }
   },
   "outputs": [],
   "source": [
    "geo_model.add_surfaces(['earth', 'base'])"
   ]
  },
  {
   "cell_type": "code",
   "execution_count": null,
   "id": "c74dd932",
   "metadata": {
    "ExecuteTime": {
     "end_time": "2021-11-02T11:43:08.952356Z",
     "start_time": "2021-11-02T11:43:08.885746Z"
    }
   },
   "outputs": [],
   "source": [
    "def create_surface(model, points, surface):\n",
    "    \"\"\"Add a list of points to a surface in a model\"\"\"\n",
    "    xyz = ('X', 'Y', 'Z')\n",
    "    for point in points:\n",
    "        kwargs = {**dict(zip(xyz, point)), 'surface': surface}\n",
    "        model.add_surface_points(**kwargs)\n",
    "\n",
    "# The points defining the base of the layer\n",
    "# earth_points = [(322, 135, -783), \n",
    "#                 (635, 702, -791), \n",
    "#                 (221, 668, -772), \n",
    "#                 (732, 235, -801), \n",
    "#                 (442, 454, -702)]\n",
    "\n",
    "earth_points = [(50, 50, -50), \n",
    "                (-50, -50, -50), \n",
    "                (-50, 50, -50), \n",
    "                (50, -50, -50), \n",
    "                (0, 0, -50)]\n",
    "\n",
    "earth_points = [(50, 50, -50)]\n",
    "\n",
    "# Call our function\n",
    "create_surface(geo_model, earth_points, 'earth')"
   ]
  },
  {
   "cell_type": "code",
   "execution_count": null,
   "id": "17b221ba",
   "metadata": {
    "ExecuteTime": {
     "end_time": "2021-11-02T11:43:32.508375Z",
     "start_time": "2021-11-02T11:43:32.471079Z"
    }
   },
   "outputs": [],
   "source": [
    "# Add the surface orientation\n",
    "geo_model.add_orientations(X=0., Y=0., Z=-50.,\n",
    "                           surface='earth', pole_vector=(0., 0., 0.))"
   ]
  },
  {
   "cell_type": "code",
   "execution_count": null,
   "id": "4a637f47",
   "metadata": {},
   "outputs": [],
   "source": []
  },
  {
   "cell_type": "code",
   "execution_count": null,
   "id": "fbbe4daa",
   "metadata": {},
   "outputs": [],
   "source": []
  },
  {
   "cell_type": "code",
   "execution_count": null,
   "id": "6b0aa882",
   "metadata": {
    "ExecuteTime": {
     "end_time": "2021-11-02T11:43:09.127936Z",
     "start_time": "2021-11-02T11:43:09.008613Z"
    }
   },
   "outputs": [],
   "source": [
    "sol = gp.compute_model(geo_model)"
   ]
  },
  {
   "cell_type": "code",
   "execution_count": null,
   "id": "a74baca0",
   "metadata": {},
   "outputs": [],
   "source": []
  },
  {
   "cell_type": "code",
   "execution_count": null,
   "id": "9c1668a3",
   "metadata": {
    "ExecuteTime": {
     "end_time": "2021-11-02T11:43:09.138349Z",
     "start_time": "2021-11-02T11:43:00.368Z"
    }
   },
   "outputs": [],
   "source": [
    "sol.values_matrix"
   ]
  },
  {
   "cell_type": "code",
   "execution_count": null,
   "id": "aba62700",
   "metadata": {},
   "outputs": [],
   "source": []
  },
  {
   "cell_type": "code",
   "execution_count": null,
   "id": "8c7c03ec",
   "metadata": {},
   "outputs": [],
   "source": []
  },
  {
   "cell_type": "code",
   "execution_count": null,
   "id": "44b0c7ee",
   "metadata": {},
   "outputs": [],
   "source": []
  },
  {
   "cell_type": "code",
   "execution_count": null,
   "id": "31b96387",
   "metadata": {},
   "outputs": [],
   "source": []
  }
 ],
 "metadata": {
  "kernelspec": {
   "display_name": "Python [conda env:pg]",
   "language": "python",
   "name": "conda-env-pg-py"
  },
  "language_info": {
   "codemirror_mode": {
    "name": "ipython",
    "version": 3
   },
   "file_extension": ".py",
   "mimetype": "text/x-python",
   "name": "python",
   "nbconvert_exporter": "python",
   "pygments_lexer": "ipython3",
   "version": "3.9.7"
  },
  "toc": {
   "base_numbering": 1,
   "nav_menu": {},
   "number_sections": true,
   "sideBar": true,
   "skip_h1_title": false,
   "title_cell": "Table of Contents",
   "title_sidebar": "Contents",
   "toc_cell": false,
   "toc_position": {},
   "toc_section_display": true,
   "toc_window_display": false
  },
  "varInspector": {
   "cols": {
    "lenName": 16,
    "lenType": 16,
    "lenVar": 40
   },
   "kernels_config": {
    "python": {
     "delete_cmd_postfix": "",
     "delete_cmd_prefix": "del ",
     "library": "var_list.py",
     "varRefreshCmd": "print(var_dic_list())"
    },
    "r": {
     "delete_cmd_postfix": ") ",
     "delete_cmd_prefix": "rm(",
     "library": "var_list.r",
     "varRefreshCmd": "cat(var_dic_list()) "
    }
   },
   "types_to_exclude": [
    "module",
    "function",
    "builtin_function_or_method",
    "instance",
    "_Feature"
   ],
   "window_display": false
  }
 },
 "nbformat": 4,
 "nbformat_minor": 5
}
