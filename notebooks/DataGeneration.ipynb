{
 "cells": [
  {
   "cell_type": "markdown",
   "id": "45682e4b",
   "metadata": {},
   "source": [
    "# Data Generation\n",
    "\n",
    "We need to generate synthetic data to train a model on. We already have a script which can turn geophone shot data into a CTRM 3D film, so we need to generate synthetic geophone shot data. We will try 2 python libraries to achieve this goal: pygimli, and devito."
   ]
  },
  {
   "cell_type": "markdown",
   "id": "3b7d2755",
   "metadata": {},
   "source": [
    "# PyGimli"
   ]
  },
  {
   "cell_type": "code",
   "execution_count": null,
   "id": "4f366df1",
   "metadata": {
    "ExecuteTime": {
     "end_time": "2021-11-02T14:19:36.941203Z",
     "start_time": "2021-11-02T14:19:36.631295Z"
    }
   },
   "outputs": [],
   "source": [
    "import numpy as np\n",
    "# import pandas as pd\n",
    "import pygimli as pg\n",
    "\n",
    "pyvista = pg.optImport(\"pyvista\")"
   ]
  },
  {
   "cell_type": "code",
   "execution_count": null,
   "id": "ffb88a4c",
   "metadata": {
    "ExecuteTime": {
     "end_time": "2021-11-02T14:19:42.420550Z",
     "start_time": "2021-11-02T14:19:42.416778Z"
    }
   },
   "outputs": [],
   "source": [
    "s0 = -50\n",
    "sf = 50\n",
    "z0 =  0\n",
    "zf = -50\n",
    "# the_world = pg.meshtools.createWorld([s0, s0, z0], [sf, sf, zf], worldMarker=False)\n",
    "the_cube = pg.meshtools.createCube(size=[(sf-s0), (sf-s0), (zf-z0)], \n",
    "                                   pos=[0, 0, 0.5*(zf-z0)])\n",
    "# the_rect = pg.meshtools.createRectangle([s0, s0, z0], [sf, sf, zf])"
   ]
  },
  {
   "cell_type": "code",
   "execution_count": null,
   "id": "dc0f2c03",
   "metadata": {
    "ExecuteTime": {
     "end_time": "2021-11-02T14:20:14.858764Z",
     "start_time": "2021-11-02T14:19:50.336136Z"
    },
    "scrolled": true
   },
   "outputs": [],
   "source": [
    "sensors = []\n",
    "ds = 0.5\n",
    "for x in np.arange(s0, sf+ds, ds):\n",
    "    for y in np.arange(s0, sf+ds, ds):\n",
    "        sensors.append(np.array([x, y, z0]))\n",
    "for pos in sensors:\n",
    "    the_cube.createNode(pos)"
   ]
  },
  {
   "cell_type": "code",
   "execution_count": null,
   "id": "ee5eed8f",
   "metadata": {
    "ExecuteTime": {
     "end_time": "2021-11-02T14:21:00.970730Z",
     "start_time": "2021-11-02T14:21:00.567451Z"
    }
   },
   "outputs": [],
   "source": [
    "pg.show(the_cube)"
   ]
  },
  {
   "cell_type": "code",
   "execution_count": null,
   "id": "5788a459",
   "metadata": {},
   "outputs": [],
   "source": []
  },
  {
   "cell_type": "code",
   "execution_count": null,
   "id": "b300dfd3",
   "metadata": {},
   "outputs": [],
   "source": []
  },
  {
   "cell_type": "code",
   "execution_count": null,
   "id": "96f006a2",
   "metadata": {
    "ExecuteTime": {
     "end_time": "2021-11-02T14:22:32.340789Z",
     "start_time": "2021-11-02T14:22:32.334719Z"
    }
   },
   "outputs": [],
   "source": [
    "import pygimli.meshtools as mt\n",
    "from pygimli.physics import traveltime\n",
    "from pygimli.viewer.pv import drawSensors\n",
    "from pygimli.physics.seismics import solvePressureWave"
   ]
  },
  {
   "cell_type": "code",
   "execution_count": null,
   "id": "80bc32b4",
   "metadata": {
    "ExecuteTime": {
     "start_time": "2021-11-02T14:22:44.534Z"
    }
   },
   "outputs": [],
   "source": [
    "mesh = mt.createMesh(the_cube)\n",
    "mesh.createSecondaryNodes(1)"
   ]
  },
  {
   "cell_type": "code",
   "execution_count": null,
   "id": "e04b1164",
   "metadata": {
    "ExecuteTime": {
     "end_time": "2021-11-02T11:29:55.553350Z",
     "start_time": "2021-11-02T11:29:55.410Z"
    }
   },
   "outputs": [],
   "source": [
    "scheme = pg.physics.traveltime.createRAData(sensors)"
   ]
  },
  {
   "cell_type": "code",
   "execution_count": null,
   "id": "3b3953d7",
   "metadata": {
    "ExecuteTime": {
     "end_time": "2021-11-02T11:29:55.553728Z",
     "start_time": "2021-11-02T11:29:55.412Z"
    }
   },
   "outputs": [],
   "source": [
    "help(traveltime.createRAData())"
   ]
  },
  {
   "cell_type": "markdown",
   "id": "1e2124c8",
   "metadata": {},
   "source": [
    "# Devito"
   ]
  },
  {
   "cell_type": "code",
   "execution_count": null,
   "id": "dff20395",
   "metadata": {
    "ExecuteTime": {
     "end_time": "2021-11-02T11:29:55.554113Z",
     "start_time": "2021-11-02T11:29:55.413Z"
    }
   },
   "outputs": [],
   "source": [
    "from devito import *"
   ]
  },
  {
   "cell_type": "code",
   "execution_count": null,
   "id": "111ac1e0",
   "metadata": {
    "ExecuteTime": {
     "end_time": "2021-11-02T11:29:55.554480Z",
     "start_time": "2021-11-02T11:29:55.414Z"
    }
   },
   "outputs": [],
   "source": [
    "# Import auxiliary modules\n",
    "import numpy as np\n",
    "\n",
    "%matplotlib inline"
   ]
  },
  {
   "cell_type": "code",
   "execution_count": null,
   "id": "60148e23",
   "metadata": {
    "ExecuteTime": {
     "end_time": "2021-11-02T11:29:55.554864Z",
     "start_time": "2021-11-02T11:29:55.418Z"
    }
   },
   "outputs": [],
   "source": [
    "#NBVAL_IGNORE_OUTPUT\n",
    "# import sys\n",
    "# sys.path.insert(0, '../../devito')\n",
    "from examples.seismic import Model, plot_velocity\n",
    "\n",
    "# Define a physical size\n",
    "shape = (101, 101)  # Number of grid point (nx, nz)\n",
    "spacing = (10., 10.)  # Grid spacing in m. The domain size is now 1km by 1km\n",
    "origin = (0., 0.)  # What is the location of the top left corner. This is necessary to define\n",
    "# the absolute location of the source and receivers\n",
    "\n",
    "# Define a velocity profile. The velocity is in km/s\n",
    "v = np.empty(shape, dtype=np.float32)\n",
    "v[:, :51] = 1.5\n",
    "v[:, 51:] = 2.5\n",
    "\n",
    "# With the velocity and model size defined, we can create the seismic model that\n",
    "# encapsulates this properties. We also define the size of the absorbing layer as 10 grid points\n",
    "model = Model(vp=v, origin=origin, shape=shape, spacing=spacing,\n",
    "              space_order=2, nbl=10, bcs=\"damp\")\n",
    "\n",
    "plot_velocity(model)"
   ]
  },
  {
   "cell_type": "code",
   "execution_count": null,
   "id": "cc42fe6b",
   "metadata": {},
   "outputs": [],
   "source": []
  },
  {
   "cell_type": "code",
   "execution_count": null,
   "id": "fb805813",
   "metadata": {},
   "outputs": [],
   "source": []
  },
  {
   "cell_type": "code",
   "execution_count": null,
   "id": "47b783e6",
   "metadata": {},
   "outputs": [],
   "source": []
  },
  {
   "cell_type": "code",
   "execution_count": null,
   "id": "59753eb8",
   "metadata": {},
   "outputs": [],
   "source": []
  },
  {
   "cell_type": "code",
   "execution_count": null,
   "id": "179c069e",
   "metadata": {},
   "outputs": [],
   "source": []
  },
  {
   "cell_type": "code",
   "execution_count": null,
   "id": "f524943a",
   "metadata": {},
   "outputs": [],
   "source": []
  },
  {
   "cell_type": "code",
   "execution_count": null,
   "id": "27963702",
   "metadata": {},
   "outputs": [],
   "source": []
  },
  {
   "cell_type": "code",
   "execution_count": null,
   "id": "f0450489",
   "metadata": {},
   "outputs": [],
   "source": []
  },
  {
   "cell_type": "code",
   "execution_count": null,
   "id": "a5ffaf9c",
   "metadata": {},
   "outputs": [],
   "source": []
  },
  {
   "cell_type": "code",
   "execution_count": null,
   "id": "6154e529",
   "metadata": {},
   "outputs": [],
   "source": []
  },
  {
   "cell_type": "code",
   "execution_count": null,
   "id": "38d716ae",
   "metadata": {
    "ExecuteTime": {
     "end_time": "2021-11-02T11:42:59.608467Z",
     "start_time": "2021-11-02T11:42:58.439871Z"
    }
   },
   "outputs": [],
   "source": [
    "# NBVAL_IGNORE_OUTPUT\n",
    "try:\n",
    "    # Import gempy\n",
    "    import gempy as gp\n",
    "except ModuleNotFoundError:\n",
    "    # Need to install these\n",
    "    ! pip install pyvista==0.29\n",
    "    ! pip install pyqt5\n",
    "    # Install gempy\n",
    "    ! pip install gempy==2.2.9\n",
    "    # Import gempy\n",
    "    import gempy as gp\n",
    "    \n",
    "try:\n",
    "    # Import jinja2 (used for colour coding geology)\n",
    "    import jinja2\n",
    "except ModuleNotFoundError:\n",
    "    # Install jinja2\n",
    "    ! pip install jinja2\n",
    "    # Import jinja2\n",
    "    import jinja2"
   ]
  },
  {
   "cell_type": "code",
   "execution_count": null,
   "id": "ea0b9a37",
   "metadata": {
    "ExecuteTime": {
     "end_time": "2021-11-02T11:42:59.976968Z",
     "start_time": "2021-11-02T11:42:59.664997Z"
    }
   },
   "outputs": [],
   "source": [
    "geo_model = gp.create_model('the_world')\n",
    "geo_model = gp.init_data(geo_model, \n",
    "                         extent=(-50., 50.,\n",
    "                                 -50., 50.,\n",
    "                                  0., -50.), \n",
    "                         resolution=(101, 101, 51))"
   ]
  },
  {
   "cell_type": "code",
   "execution_count": null,
   "id": "2ea31ee1",
   "metadata": {
    "ExecuteTime": {
     "end_time": "2021-11-02T11:43:08.657875Z",
     "start_time": "2021-11-02T11:43:00.033769Z"
    }
   },
   "outputs": [],
   "source": [
    "gp.set_interpolator(geo_model, output=['geology'], theano_optimizer='fast_compile')"
   ]
  },
  {
   "cell_type": "code",
   "execution_count": null,
   "id": "adee3754",
   "metadata": {
    "ExecuteTime": {
     "end_time": "2021-11-02T11:43:08.723311Z",
     "start_time": "2021-11-02T11:43:08.720270Z"
    }
   },
   "outputs": [],
   "source": [
    "geo_model.rename_series({'Default series': 'Lower'})"
   ]
  },
  {
   "cell_type": "code",
   "execution_count": null,
   "id": "6526fb1c",
   "metadata": {
    "ExecuteTime": {
     "end_time": "2021-11-02T11:43:08.826340Z",
     "start_time": "2021-11-02T11:43:08.778518Z"
    }
   },
   "outputs": [],
   "source": [
    "geo_model.add_surfaces(['earth', 'base'])"
   ]
  },
  {
   "cell_type": "code",
   "execution_count": null,
   "id": "af430c84",
   "metadata": {
    "ExecuteTime": {
     "end_time": "2021-11-02T11:43:08.952356Z",
     "start_time": "2021-11-02T11:43:08.885746Z"
    }
   },
   "outputs": [],
   "source": [
    "def create_surface(model, points, surface):\n",
    "    \"\"\"Add a list of points to a surface in a model\"\"\"\n",
    "    xyz = ('X', 'Y', 'Z')\n",
    "    for point in points:\n",
    "        kwargs = {**dict(zip(xyz, point)), 'surface': surface}\n",
    "        model.add_surface_points(**kwargs)\n",
    "\n",
    "# The points defining the base of the layer\n",
    "# earth_points = [(322, 135, -783), \n",
    "#                 (635, 702, -791), \n",
    "#                 (221, 668, -772), \n",
    "#                 (732, 235, -801), \n",
    "#                 (442, 454, -702)]\n",
    "\n",
    "earth_points = [(50, 50, -50), \n",
    "                (-50, -50, -50), \n",
    "                (-50, 50, -50), \n",
    "                (50, -50, -50), \n",
    "                (0, 0, -50)]\n",
    "\n",
    "earth_points = [(50, 50, -50)]\n",
    "\n",
    "# Call our function\n",
    "create_surface(geo_model, earth_points, 'earth')"
   ]
  },
  {
   "cell_type": "code",
   "execution_count": null,
   "id": "17b221ba",
   "metadata": {
    "ExecuteTime": {
     "end_time": "2021-11-02T11:43:32.508375Z",
     "start_time": "2021-11-02T11:43:32.471079Z"
    }
   },
   "outputs": [],
   "source": [
    "# Add the surface orientation\n",
    "geo_model.add_orientations(X=0., Y=0., Z=-50.,\n",
    "                           surface='earth', pole_vector=(0., 0., 0.))"
   ]
  },
  {
   "cell_type": "code",
   "execution_count": null,
   "id": "08aeb862",
   "metadata": {},
   "outputs": [],
   "source": []
  },
  {
   "cell_type": "code",
   "execution_count": null,
   "id": "130437a8",
   "metadata": {},
   "outputs": [],
   "source": []
  },
  {
   "cell_type": "code",
   "execution_count": null,
   "id": "6b0aa882",
   "metadata": {
    "ExecuteTime": {
     "end_time": "2021-11-02T11:43:09.127936Z",
     "start_time": "2021-11-02T11:43:09.008613Z"
    }
   },
   "outputs": [],
   "source": [
    "sol = gp.compute_model(geo_model)"
   ]
  },
  {
   "cell_type": "code",
   "execution_count": null,
   "id": "9adcc644",
   "metadata": {},
   "outputs": [],
   "source": []
  },
  {
   "cell_type": "code",
   "execution_count": null,
   "id": "18c2fd6c",
   "metadata": {
    "ExecuteTime": {
     "end_time": "2021-11-02T11:43:09.138349Z",
     "start_time": "2021-11-02T11:43:00.368Z"
    }
   },
   "outputs": [],
   "source": [
    "sol.values_matrix"
   ]
  },
  {
   "cell_type": "code",
   "execution_count": null,
   "id": "fa7bb2db",
   "metadata": {},
   "outputs": [],
   "source": []
  },
  {
   "cell_type": "code",
   "execution_count": null,
   "id": "1c7f7c15",
   "metadata": {},
   "outputs": [],
   "source": []
  },
  {
   "cell_type": "markdown",
   "id": "0bf4a861",
   "metadata": {},
   "source": [
    "# basic test"
   ]
  },
  {
   "cell_type": "code",
   "execution_count": 8,
   "id": "a1d7940f",
   "metadata": {
    "ExecuteTime": {
     "end_time": "2021-11-03T06:40:40.416257Z",
     "start_time": "2021-11-03T06:40:40.311289Z"
    }
   },
   "outputs": [],
   "source": [
    "import numpy as np\n",
    "from tqdm import tqdm\n",
    "from matplotlib import pyplot as plt\n",
    "\n",
    "SEED=42\n",
    "np.random.seed(SEED)"
   ]
  },
  {
   "cell_type": "code",
   "execution_count": 9,
   "id": "75ddb70a",
   "metadata": {
    "ExecuteTime": {
     "end_time": "2021-11-03T06:40:40.857045Z",
     "start_time": "2021-11-03T06:40:40.854149Z"
    }
   },
   "outputs": [],
   "source": [
    "t0 = 0\n",
    "tf = 5000\n",
    "geophs = []\n",
    "s0 = -50\n",
    "sf = 50\n",
    "ds = 0.5\n",
    "v = 300"
   ]
  },
  {
   "cell_type": "markdown",
   "id": "9d0c0b44",
   "metadata": {},
   "source": [
    "defining the geophone locations:"
   ]
  },
  {
   "cell_type": "code",
   "execution_count": 10,
   "id": "02b04ffb",
   "metadata": {
    "ExecuteTime": {
     "end_time": "2021-11-03T06:40:41.669023Z",
     "start_time": "2021-11-03T06:40:41.606148Z"
    }
   },
   "outputs": [],
   "source": [
    "for x in np.arange(s0, sf+(0.5*ds), ds):\n",
    "    for y in np.arange(s0, sf+(0.5*ds), ds):\n",
    "        geophs.append(np.array([x, y, 0]))\n",
    "geophs = np.array(geophs)\n",
    "geophs.shape\n",
    "n_geophs = geophs.shape[0]"
   ]
  },
  {
   "cell_type": "markdown",
   "id": "720fd37f",
   "metadata": {
    "ExecuteTime": {
     "end_time": "2021-11-02T12:17:06.263903Z",
     "start_time": "2021-11-02T12:17:06.260046Z"
    }
   },
   "source": [
    "defining the signal"
   ]
  },
  {
   "cell_type": "code",
   "execution_count": 11,
   "id": "5a2e58b0",
   "metadata": {
    "ExecuteTime": {
     "end_time": "2021-11-03T06:40:42.233425Z",
     "start_time": "2021-11-03T06:40:42.230138Z"
    }
   },
   "outputs": [],
   "source": [
    "s_x = 0\n",
    "s_y = 0\n",
    "s_z = -20\n",
    "t = np.arange(t0, tf)\n",
    "sig = lambda t: np.sinc(0.2*(t - 200))"
   ]
  },
  {
   "cell_type": "code",
   "execution_count": 12,
   "id": "f723c68d",
   "metadata": {
    "ExecuteTime": {
     "end_time": "2021-11-03T06:40:42.528190Z",
     "start_time": "2021-11-03T06:40:42.501585Z"
    }
   },
   "outputs": [
    {
     "data": {
      "text/plain": [
       "((40401,), 20.0)"
      ]
     },
     "execution_count": 12,
     "metadata": {},
     "output_type": "execute_result"
    }
   ],
   "source": [
    "dists = np.sqrt(((np.array([[s_x, s_y, s_z]] * n_geophs) - geophs)**2).sum(axis=1))\n",
    "dists.shape, dists.min()"
   ]
  },
  {
   "cell_type": "code",
   "execution_count": 13,
   "id": "b48b26b9",
   "metadata": {
    "ExecuteTime": {
     "end_time": "2021-11-03T06:40:42.736346Z",
     "start_time": "2021-11-03T06:40:42.733508Z"
    }
   },
   "outputs": [
    {
     "data": {
      "text/plain": [
       "(40401,)"
      ]
     },
     "execution_count": 13,
     "metadata": {},
     "output_type": "execute_result"
    }
   ],
   "source": [
    "dt = dists / v\n",
    "dt.shape"
   ]
  },
  {
   "cell_type": "code",
   "execution_count": 14,
   "id": "855c01d5",
   "metadata": {
    "ExecuteTime": {
     "end_time": "2021-11-03T06:40:42.961734Z",
     "start_time": "2021-11-03T06:40:42.957537Z"
    }
   },
   "outputs": [
    {
     "data": {
      "text/plain": [
       "(40401,)"
      ]
     },
     "execution_count": 14,
     "metadata": {},
     "output_type": "execute_result"
    }
   ],
   "source": [
    "cos_phi = np.abs(s_z) / dists\n",
    "cos_phi.shape"
   ]
  },
  {
   "cell_type": "code",
   "execution_count": 15,
   "id": "d7a024f3",
   "metadata": {
    "ExecuteTime": {
     "end_time": "2021-11-03T06:40:43.194591Z",
     "start_time": "2021-11-03T06:40:43.191502Z"
    }
   },
   "outputs": [
    {
     "data": {
      "text/plain": [
       "(40401,)"
      ]
     },
     "execution_count": 15,
     "metadata": {},
     "output_type": "execute_result"
    }
   ],
   "source": [
    "amps = cos_phi / (dists**2)\n",
    "amps.shape"
   ]
  },
  {
   "cell_type": "code",
   "execution_count": 16,
   "id": "adde0f6b",
   "metadata": {
    "ExecuteTime": {
     "end_time": "2021-11-03T06:40:43.401666Z",
     "start_time": "2021-11-03T06:40:43.398329Z"
    }
   },
   "outputs": [
    {
     "data": {
      "text/plain": [
       "(40401, 5000)"
      ]
     },
     "execution_count": 16,
     "metadata": {},
     "output_type": "execute_result"
    }
   ],
   "source": [
    "shots = np.zeros((n_geophs, tf-t0))\n",
    "shots.shape"
   ]
  },
  {
   "cell_type": "code",
   "execution_count": 17,
   "id": "b6965f79",
   "metadata": {
    "ExecuteTime": {
     "end_time": "2021-11-03T06:40:47.664264Z",
     "start_time": "2021-11-03T06:40:43.617764Z"
    }
   },
   "outputs": [],
   "source": [
    "for t in np.arange(t0, tf):\n",
    "    shots[:, t] = amps*sig(t-dt)"
   ]
  },
  {
   "cell_type": "code",
   "execution_count": 18,
   "id": "672a3870",
   "metadata": {
    "ExecuteTime": {
     "end_time": "2021-11-03T06:40:47.857570Z",
     "start_time": "2021-11-03T06:40:47.786970Z"
    }
   },
   "outputs": [
    {
     "data": {
      "text/plain": [
       "[<matplotlib.lines.Line2D at 0x7f877d97cfa0>]"
      ]
     },
     "execution_count": 18,
     "metadata": {},
     "output_type": "execute_result"
    },
    {
     "data": {
      "image/png": "[encoded data removed]",
      "text/plain": [
       "<Figure size 432x288 with 1 Axes>"
      ]
     },
     "metadata": {
      "needs_background": "light"
     },
     "output_type": "display_data"
    }
   ],
   "source": [
    "plt.plot(np.arange(t0, tf), shots[20000, :])"
   ]
  },
  {
   "cell_type": "markdown",
   "id": "c266b11a",
   "metadata": {},
   "source": [
    "## generating a random dataset\n",
    "\n",
    "we will generate 20 random events, each one will have 1-5 pulses with varying characteristics"
   ]
  },
  {
   "cell_type": "code",
   "execution_count": 19,
   "id": "f1bf7f09",
   "metadata": {
    "ExecuteTime": {
     "end_time": "2021-11-03T06:40:47.972949Z",
     "start_time": "2021-11-03T06:40:47.970091Z"
    }
   },
   "outputs": [],
   "source": [
    "def gen_a_shot(f, params, geophs, loc, t_span, v):\n",
    "    \"\"\"\n",
    "    given a geophoes geometry, a disturbance location and type, \n",
    "    will generate a a timeline with only this disturbance\n",
    "    :param f: a function describing the disturbance, of form f(t, *params)\n",
    "    :param params: a list of params to pass to f() after the time\n",
    "    :param geophs: a numpy array containing the locations of the geophones\n",
    "    :param loc: the location of the disturbance\n",
    "    :param t_span: the amount of time the recorded in the shot\n",
    "    :param v: the speed of sound in the medium\n",
    "    :return: a numpy array containing the shot data of the disturbance\n",
    "    \"\"\"\n",
    "    # save the number of geophones in memory\n",
    "    n_geophs = geophs.shape[0]\n",
    "    # find the distance of each geophone from the source\n",
    "    dists = np.sqrt(((np.array([[loc[0], loc[1], loc[2]]] * n_geophs) - geophs)**2).sum(axis=1))\n",
    "    # find the time the disturbance takes to travel to each geophone\n",
    "    dt = dists / v\n",
    "    # calculate the decay of the amplitude by the time it arrives to each geophone\n",
    "    cos_phi = np.abs(s_z) / dists\n",
    "    amps = cos_phi / (dists**2)\n",
    "    # create an object to hold the output data\n",
    "    shots = np.zeros((n_geophs, t_span[1] - t_span[0]))\n",
    "    for t in np.arange(t_span[0], t_span[1]):\n",
    "        shots[:, t] = amps*f(t-dt, * params)\n",
    "    return shots"
   ]
  },
  {
   "cell_type": "code",
   "execution_count": 47,
   "id": "b13afc3d",
   "metadata": {
    "ExecuteTime": {
     "end_time": "2021-11-03T06:49:33.697197Z",
     "start_time": "2021-11-03T06:49:33.688328Z"
    }
   },
   "outputs": [],
   "source": [
    "def gen_shots(f, param_range, geophs, loc_range, N, max_subs, break_range, sub_range, v, seed=42):\n",
    "    \"\"\"\n",
    "    generate a sequence of disturbances and record shot data\n",
    "    :param f: a function describing the disturbance, of form f(t, t0, *params)    \n",
    "    :param param_range: 2 lists describing the range of params that can be passed to to f() \n",
    "    after the time variabel: [params_0, params_f]\n",
    "    :param geophs: a numpy array containing the locations of the geophones\n",
    "    :param loc_range: 2 lists descrbing the bounds of the bpossible disturbances:\n",
    "    [(x_0, y_0, z_0), (x_f, y_f, z_f)]\n",
    "    :param N: the number of disturbances\n",
    "    :param max_subs: how many disturbances at most can make each disturbance\n",
    "    :param break_range: a range of time to wait between disturbances\n",
    "    :param sub_range: a range of time to wait between sub disturbances\n",
    "    :param v: the speed of sound in the medium\n",
    "    :param seed: used to set the randomness of the model\n",
    "    :return: a numpy array containing the shot data of the disturbance\n",
    "    \"\"\"\n",
    "#     raise NotImplementedError\n",
    "    # calculate the moment each disturbance takes place, and total sim time\n",
    "    T = 0    \n",
    "    dis_times = []\n",
    "    dis_dt = []\n",
    "    for _ in range(N):\n",
    "        T += np.random.randint(*break_range)\n",
    "        n_subs = np.random.randint(1, max_subs+1)\n",
    "        t_wait = np.random.randint(*sub_range)\n",
    "        dis_dt.append(t_wait)\n",
    "        sub_dists = []\n",
    "        for _ in range(n_subs):\n",
    "            T += t_wait\n",
    "            sub_dists.append(T)\n",
    "        dis_times.append(sub_dists)\n",
    "    T += np.random.randint(*break_range)\n",
    "    \n",
    "    # create object to hold output data\n",
    "    outp = np.zeros((n_geophs, T))\n",
    "    y_res = np.zeros((4, T))\n",
    "    \n",
    "    # create a random disturbance each dis moment\n",
    "    for disturb_range, dis_wait in tqdm(zip(dis_times, dis_dt)):\n",
    "        params = []\n",
    "        for a, b in zip(param_range[0], param_range[1]):\n",
    "            params.append(a + ((b-a) * np.random.random()))\n",
    "        loc = []\n",
    "        for a, b in zip(loc_range[0], loc_range[1]):\n",
    "            loc.append(a + ((b-a) * np.random.random()))\n",
    "        \n",
    "        # TODO: calculate tt0 and ttf\n",
    "        tt0 = disturb_range[0]\n",
    "        ttf = disturb_range[-1] + dis_wait\n",
    "        y_res[:, tt0:ttf] = np.array([[1] + loc] * (ttf - tt0)).T\n",
    "            \n",
    "        for disturb_t in disturb_range:\n",
    "            ff = lambda t: f(t, disturb_t, *params)\n",
    "            outp += gen_a_shot(ff, [], geophs, loc, [0, T], v)\n",
    "        \n",
    "    return outp, y_res"
   ]
  },
  {
   "cell_type": "code",
   "execution_count": 48,
   "id": "1d104389",
   "metadata": {
    "ExecuteTime": {
     "end_time": "2021-11-03T06:49:34.274690Z",
     "start_time": "2021-11-03T06:49:34.268701Z"
    }
   },
   "outputs": [
    {
     "data": {
      "text/plain": [
       "(8, 4)"
      ]
     },
     "execution_count": 48,
     "metadata": {},
     "output_type": "execute_result"
    }
   ],
   "source": [
    "np.array([[1,2,3,4]]*8).shape"
   ]
  },
  {
   "cell_type": "code",
   "execution_count": 49,
   "id": "146680bf",
   "metadata": {
    "ExecuteTime": {
     "end_time": "2021-11-03T06:49:35.010133Z",
     "start_time": "2021-11-03T06:49:35.005440Z"
    }
   },
   "outputs": [],
   "source": [
    "sig = lambda t, t0, A, w: A * np.sinc(w*(t - t0))"
   ]
  },
  {
   "cell_type": "code",
   "execution_count": 50,
   "id": "b65798d6",
   "metadata": {
    "ExecuteTime": {
     "end_time": "2021-11-03T06:50:16.400553Z",
     "start_time": "2021-11-03T06:49:35.820618Z"
    }
   },
   "outputs": [
    {
     "name": "stderr",
     "output_type": "stream",
     "text": [
      "5it [00:40,  8.11s/it]\n"
     ]
    }
   ],
   "source": [
    "data, y_true = gen_shots(sig, \n",
    "                          [[0.9, 0.1], [1.1, 0.3]], \n",
    "                          geophs, \n",
    "                          [(s0, s0, 0), (sf, sf, -50)], \n",
    "                          N=5, \n",
    "                          max_subs=5, \n",
    "                          break_range=[400, 500], \n",
    "                          sub_range=[50, 100], \n",
    "                          v=300, \n",
    "                          seed=42)"
   ]
  },
  {
   "cell_type": "code",
   "execution_count": 51,
   "id": "6f439d0d",
   "metadata": {
    "ExecuteTime": {
     "end_time": "2021-11-03T06:50:16.533655Z",
     "start_time": "2021-11-03T06:50:16.531168Z"
    }
   },
   "outputs": [
    {
     "data": {
      "text/plain": [
       "((40401, 3803), (4, 3803))"
      ]
     },
     "execution_count": 51,
     "metadata": {},
     "output_type": "execute_result"
    }
   ],
   "source": [
    "data.shape, y_true.shape"
   ]
  },
  {
   "cell_type": "code",
   "execution_count": 52,
   "id": "1af01672",
   "metadata": {
    "ExecuteTime": {
     "end_time": "2021-11-03T06:50:21.948781Z",
     "start_time": "2021-11-03T06:50:21.873252Z"
    }
   },
   "outputs": [
    {
     "data": {
      "text/plain": [
       "[<matplotlib.lines.Line2D at 0x7f877d8de6d0>]"
      ]
     },
     "execution_count": 52,
     "metadata": {},
     "output_type": "execute_result"
    },
    {
     "data": {
      "image/png": "[encoded data removed]",
      "text/plain": [
       "<Figure size 432x288 with 1 Axes>"
      ]
     },
     "metadata": {
      "needs_background": "light"
     },
     "output_type": "display_data"
    }
   ],
   "source": [
    "plt.plot(np.arange(0, data.shape[1]), data[20000, :])"
   ]
  },
  {
   "cell_type": "code",
   "execution_count": 53,
   "id": "ed92c805",
   "metadata": {
    "ExecuteTime": {
     "end_time": "2021-11-03T06:50:53.759828Z",
     "start_time": "2021-11-03T06:50:53.697677Z"
    }
   },
   "outputs": [
    {
     "data": {
      "text/plain": [
       "[<matplotlib.lines.Line2D at 0x7f877d708fd0>]"
      ]
     },
     "execution_count": 53,
     "metadata": {},
     "output_type": "execute_result"
    },
    {
     "data": {
      "image/png": "[encoded data removed]",
      "text/plain": [
       "<Figure size 432x288 with 1 Axes>"
      ]
     },
     "metadata": {
      "needs_background": "light"
     },
     "output_type": "display_data"
    }
   ],
   "source": [
    "plt.plot(np.arange(0, data.shape[1]), y_true[0, :])"
   ]
  },
  {
   "cell_type": "code",
   "execution_count": null,
   "id": "4dec2794",
   "metadata": {},
   "outputs": [],
   "source": []
  },
  {
   "cell_type": "code",
   "execution_count": null,
   "id": "bc68b35d",
   "metadata": {},
   "outputs": [],
   "source": []
  },
  {
   "cell_type": "code",
   "execution_count": null,
   "id": "0f9eab0e",
   "metadata": {},
   "outputs": [],
   "source": []
  },
  {
   "cell_type": "code",
   "execution_count": null,
   "id": "51519fe4",
   "metadata": {},
   "outputs": [],
   "source": []
  },
  {
   "cell_type": "code",
   "execution_count": null,
   "id": "98ea997e",
   "metadata": {},
   "outputs": [],
   "source": []
  },
  {
   "cell_type": "code",
   "execution_count": null,
   "id": "e3c772f2",
   "metadata": {},
   "outputs": [],
   "source": []
  },
  {
   "cell_type": "code",
   "execution_count": null,
   "id": "535ceafe",
   "metadata": {},
   "outputs": [],
   "source": []
  },
  {
   "cell_type": "code",
   "execution_count": null,
   "id": "a19a5c5b",
   "metadata": {},
   "outputs": [],
   "source": []
  }
 ],
 "metadata": {
  "kernelspec": {
   "display_name": "Python [conda env:modeling] *",
   "language": "python",
   "name": "conda-env-modeling-py"
  },
  "language_info": {
   "codemirror_mode": {
    "name": "ipython",
    "version": 3
   },
   "file_extension": ".py",
   "mimetype": "text/x-python",
   "name": "python",
   "nbconvert_exporter": "python",
   "pygments_lexer": "ipython3",
   "version": "3.8.8"
  },
  "toc": {
   "base_numbering": 1,
   "nav_menu": {},
   "number_sections": true,
   "sideBar": true,
   "skip_h1_title": false,
   "title_cell": "Table of Contents",
   "title_sidebar": "Contents",
   "toc_cell": false,
   "toc_position": {},
   "toc_section_display": true,
   "toc_window_display": false
  },
  "varInspector": {
   "cols": {
    "lenName": 16,
    "lenType": 16,
    "lenVar": 40
   },
   "kernels_config": {
    "python": {
     "delete_cmd_postfix": "",
     "delete_cmd_prefix": "del ",
     "library": "var_list.py",
     "varRefreshCmd": "print(var_dic_list())"
    },
    "r": {
     "delete_cmd_postfix": ") ",
     "delete_cmd_prefix": "rm(",
     "library": "var_list.r",
     "varRefreshCmd": "cat(var_dic_list()) "
    }
   },
   "types_to_exclude": [
    "module",
    "function",
    "builtin_function_or_method",
    "instance",
    "_Feature"
   ],
   "window_display": false
  }
 },
 "nbformat": 4,
 "nbformat_minor": 5
}
